{
 "cells": [
  {
   "cell_type": "code",
   "execution_count": 15,
   "id": "32212f6e",
   "metadata": {},
   "outputs": [],
   "source": [
    "def busca_livros(lista_livros, titulo):\n",
    "    l = 0\n",
    "    r = len(lista_livros) -1\n",
    "\n",
    "    while l < r:\n",
    "        meio = (l + r) // 2\n",
    "\n",
    "        if lista_livros[meio][0].lower() == titulo.lower():\n",
    "            return lista_livros[meio]\n",
    "\n",
    "        if lista_livros[meio][0].lower() > titulo.lower():\n",
    "            l = meio + 1\n",
    "\n",
    "        if lista_livros[meio][0].lower() < titulo.lower():\n",
    "            r = meio - 1\n",
    "    return -1"
   ]
  },
  {
   "cell_type": "code",
   "execution_count": 16,
   "id": "48cccc0d",
   "metadata": {},
   "outputs": [],
   "source": [
    "livros = [\n",
    "    (\"O Legado das Sombras\", \"Silas Blackwood\", 2018),\n",
    "    (\"A Cidade de Cristal\", \"Evelyn Reed\", 2022),\n",
    "    (\"Ecos do Vazio\", \"Julian Vance\", 2015),\n",
    "    (\"A Queda dos Reinos\", \"Seraphina Bellweather\", 2020),\n",
    "    (\"Memórias de uma Estrela Cadente\", \"Corvus Nightshade\", 2019),\n",
    "]"
   ]
  },
  {
   "cell_type": "code",
   "execution_count": 17,
   "id": "dbafaf78-9881-4491-9536-d93c5c25fbb9",
   "metadata": {},
   "outputs": [],
   "source": [
    "livros = sorted(livros)"
   ]
  },
  {
   "cell_type": "code",
   "execution_count": 18,
   "id": "786f4ff3-478f-4fee-bf50-1f28e97ca545",
   "metadata": {},
   "outputs": [],
   "source": [
    "busca = (busca_livros(livros, \"Ecos do Vazio\"))"
   ]
  },
  {
   "cell_type": "code",
   "execution_count": 20,
   "id": "f369c953-0dae-46f6-a527-05c16411be43",
   "metadata": {},
   "outputs": [
    {
     "name": "stdout",
     "output_type": "stream",
     "text": [
      "Livro encontrado! Título: Ecos do Vazio, Autor: Julian Vance, Ano de Lançamento: 2015\n"
     ]
    }
   ],
   "source": [
    "if type(busca) == tuple:\n",
    "    print(f\"Livro encontrado! Título: {busca[0]}, Autor: {busca[1]}, Ano de Lançamento: {busca[2]}\")\n",
    "else:\n",
    "    print(\"Livro não registrado em nosso banco de dados, tente novamente mais tarde.\")"
   ]
  }
 ],
 "metadata": {
  "kernelspec": {
   "display_name": "Python 3 (ipykernel)",
   "language": "python",
   "name": "python3"
  },
  "language_info": {
   "codemirror_mode": {
    "name": "ipython",
    "version": 3
   },
   "file_extension": ".py",
   "mimetype": "text/x-python",
   "name": "python",
   "nbconvert_exporter": "python",
   "pygments_lexer": "ipython3",
   "version": "3.13.5"
  }
 },
 "nbformat": 4,
 "nbformat_minor": 5
}
